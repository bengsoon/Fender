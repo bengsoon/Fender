{
 "cells": [
  {
   "cell_type": "code",
   "execution_count": 2,
   "metadata": {},
   "outputs": [
    {
     "name": "stdout",
     "output_type": "stream",
     "text": [
      "Connecting to wss://anvil.works/uplink\n",
      "Anvil websocket open\n",
      "Connected to \"Default environment (dev)\" as SERVER\n"
     ]
    }
   ],
   "source": [
    "import pandas as pd\n",
    "import anvil.media\n",
    "\n",
    "import anvil.server\n",
    "\n",
    "anvil.server.connect(\"4YUFZDBEBPTCFSYKXGZCTMCU-ETHDLUF2E2HWHVSV\")"
   ]
  },
  {
   "cell_type": "code",
   "execution_count": 5,
   "metadata": {},
   "outputs": [
    {
     "name": "stdout",
     "output_type": "stream",
     "text": [
      "Anvil websocket closed (code 1006, reason=Going away)\n",
      "Reconnecting Anvil Uplink...\n",
      "Connecting to wss://anvil.works/uplink\n",
      "Anvil websocket open\n",
      "Connected to \"Default environment (dev)\" as SERVER\n",
      "Anvil websocket closed (code 1006, reason=Going away)\n"
     ]
    }
   ],
   "source": [
    "import pandas as pd\n",
    "import anvil.tables as tables\n",
    "from anvil.tables import app_tables\n",
    "\n",
    "@anvil.server.callable\n",
    "def import_excel_data(file):\n",
    "    with open(file, \"rb\") as f:\n",
    "        df = pd.read_excel(f)\n",
    "        for d in df.to_dict(orient=\"records\"):\n",
    "          # d is now a dict of {columnname -> value} for this row\n",
    "          # We use Python's **kwargs syntax to pass the whole dict as\n",
    "          # keyword arguments\n",
    "          app_tables.production_table.add_row(**d)"
   ]
  },
  {
   "cell_type": "code",
   "execution_count": null,
   "metadata": {},
   "outputs": [],
   "source": []
  }
 ],
 "metadata": {
  "kernelspec": {
   "display_name": "Python 3",
   "language": "python",
   "name": "python3"
  },
  "language_info": {
   "codemirror_mode": {
    "name": "ipython",
    "version": 3
   },
   "file_extension": ".py",
   "mimetype": "text/x-python",
   "name": "python",
   "nbconvert_exporter": "python",
   "pygments_lexer": "ipython3",
   "version": "3.8.3"
  }
 },
 "nbformat": 4,
 "nbformat_minor": 4
}
